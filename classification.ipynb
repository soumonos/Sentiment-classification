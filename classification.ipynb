{
 "cells": [
  {
   "cell_type": "code",
   "execution_count": 2,
   "metadata": {},
   "outputs": [
    {
     "data": {
      "text/plain": [
       "'C:\\\\Users\\\\User\\\\Downloads\\\\Sentiment analysis'"
      ]
     },
     "execution_count": 2,
     "metadata": {},
     "output_type": "execute_result"
    }
   ],
   "source": [
    "import tarfile\n",
    "import os\n",
    "import pandas as pd\n",
    "import numpy as np\n",
    "os.getcwd()"
   ]
  },
  {
   "cell_type": "markdown",
   "metadata": {},
   "source": [
    "##  Twitter Sentiment Analysis with RNN and CNN \n",
    "Coded by Soumonos Mukherjee"
   ]
  },
  {
   "cell_type": "markdown",
   "metadata": {},
   "source": [
    "##  Read data"
   ]
  },
  {
   "cell_type": "code",
   "execution_count": 4,
   "metadata": {},
   "outputs": [],
   "source": [
    "tarfile.open(\"tp_sentiment_analysis.tar.gz\").extractall()"
   ]
  },
  {
   "cell_type": "markdown",
   "metadata": {},
   "source": [
    "##  Load and process data."
   ]
  },
  {
   "cell_type": "code",
   "execution_count": 5,
   "metadata": {},
   "outputs": [
    {
     "data": {
      "text/html": [
       "<div>\n",
       "<style scoped>\n",
       "    .dataframe tbody tr th:only-of-type {\n",
       "        vertical-align: middle;\n",
       "    }\n",
       "\n",
       "    .dataframe tbody tr th {\n",
       "        vertical-align: top;\n",
       "    }\n",
       "\n",
       "    .dataframe thead th {\n",
       "        text-align: right;\n",
       "    }\n",
       "</style>\n",
       "<table border=\"1\" class=\"dataframe\">\n",
       "  <thead>\n",
       "    <tr style=\"text-align: right;\">\n",
       "      <th></th>\n",
       "      <th>id</th>\n",
       "      <th>ho</th>\n",
       "      <th>timestamp</th>\n",
       "      <th>feedback</th>\n",
       "      <th>label</th>\n",
       "      <th>company</th>\n",
       "    </tr>\n",
       "  </thead>\n",
       "  <tbody>\n",
       "    <tr>\n",
       "      <th>0</th>\n",
       "      <td>1044</td>\n",
       "      <td>125667332931596290</td>\n",
       "      <td>2011-10-16 20:20:01</td>\n",
       "      <td>&amp;quot;3 principal global players will be activ...</td>\n",
       "      <td>neutral</td>\n",
       "      <td>apple</td>\n",
       "    </tr>\n",
       "    <tr>\n",
       "      <th>1</th>\n",
       "      <td>71</td>\n",
       "      <td>126384526925639681</td>\n",
       "      <td>2011-10-18 19:49:53</td>\n",
       "      <td>If you've been struggling to get hold of me, I...</td>\n",
       "      <td>neutral</td>\n",
       "      <td>apple</td>\n",
       "    </tr>\n",
       "    <tr>\n",
       "      <th>2</th>\n",
       "      <td>278</td>\n",
       "      <td>126281019476291585</td>\n",
       "      <td>2011-10-18 12:58:35</td>\n",
       "      <td>@azee1v1 @apple @umber Proper consolidation, p...</td>\n",
       "      <td>negative</td>\n",
       "      <td>apple</td>\n",
       "    </tr>\n",
       "    <tr>\n",
       "      <th>3</th>\n",
       "      <td>5743</td>\n",
       "      <td>126862268725080065</td>\n",
       "      <td>2011-10-20 03:28:16</td>\n",
       "      <td>me acabo de dar cuenta q tengo mas seguidores ...</td>\n",
       "      <td>irrelevant</td>\n",
       "      <td>twitter</td>\n",
       "    </tr>\n",
       "    <tr>\n",
       "      <th>4</th>\n",
       "      <td>510</td>\n",
       "      <td>126054725727698944</td>\n",
       "      <td>2011-10-17 21:59:23</td>\n",
       "      <td>With Siri, Apple Could Eventually Build A Real...</td>\n",
       "      <td>neutral</td>\n",
       "      <td>apple</td>\n",
       "    </tr>\n",
       "  </tbody>\n",
       "</table>\n",
       "</div>"
      ],
      "text/plain": [
       "     id                  ho            timestamp  \\\n",
       "0  1044  125667332931596290  2011-10-16 20:20:01   \n",
       "1    71  126384526925639681  2011-10-18 19:49:53   \n",
       "2   278  126281019476291585  2011-10-18 12:58:35   \n",
       "3  5743  126862268725080065  2011-10-20 03:28:16   \n",
       "4   510  126054725727698944  2011-10-17 21:59:23   \n",
       "\n",
       "                                            feedback       label  company  \n",
       "0  &quot;3 principal global players will be activ...     neutral    apple  \n",
       "1  If you've been struggling to get hold of me, I...     neutral    apple  \n",
       "2  @azee1v1 @apple @umber Proper consolidation, p...    negative    apple  \n",
       "3  me acabo de dar cuenta q tengo mas seguidores ...  irrelevant  twitter  \n",
       "4  With Siri, Apple Could Eventually Build A Real...     neutral    apple  "
      ]
     },
     "execution_count": 5,
     "metadata": {},
     "output_type": "execute_result"
    }
   ],
   "source": [
    "header_list= [\"id\",\"ho\",\"timestamp\",\"feedback\",\"label\",\"company\"]\n",
    "df_raw= pd.read_csv(\"sanders-twitter-sentiment.csv\",names=header_list)\n",
    "df_raw.head()"
   ]
  },
  {
   "cell_type": "markdown",
   "metadata": {},
   "source": [
    "For preprocessing the tweets, we have written a module. We will import that"
   ]
  },
  {
   "cell_type": "code",
   "execution_count": 6,
   "metadata": {},
   "outputs": [],
   "source": [
    "import preprocess_twitter"
   ]
  },
  {
   "cell_type": "code",
   "execution_count": 7,
   "metadata": {},
   "outputs": [],
   "source": [
    "preprocessed_feedback= [preprocess_twitter.preprocess(i) for i in df_raw.feedback]"
   ]
  },
  {
   "cell_type": "code",
   "execution_count": 8,
   "metadata": {},
   "outputs": [
    {
     "data": {
      "text/plain": [
       "[\"if you've been struggling to get hold of me, i'm back online with a new iphone - thanks <user>\",\n",
       " '<user> <user> <user> proper consolidation, proper syncing, stop losing my purchased items, checkboxes that do what you think they will do.',\n",
       " 'me acabo de dar cuenta q tengo mas seguidores en <hashtag>  twitter <smile> gracias y espero q sigan sumandoo mas y mas <smile> para seguir aun mas activo aki',\n",
       " 'with siri, apple could eventually build a real ai <url>  + <user> <hashtag>  apple <hashtag>  siri',\n",
       " 'all this talk about about how good <hashtag> icecreamsandwich looks is making me hungry <hashtag> google <hashtag> omnomnomnom',\n",
       " '<hashtag>  galaxy nexus es presentado oficialmente. <url> | conoce los detalles del nuevo telã©fono de <hashtag>  google',\n",
       " \"rt <user>: <hashtag> twitter; for those statuses you'd never post on <hashtag> facebook\",\n",
       " 'one serious statement tho !  <hashtag>  twitter blocked the <hashtag>  troy davis <hashtag> tt <allcaps>  <hashtag>  twitter was cool w <hashtag>  amber cole  in my opinion . <repeat> bullshit .',\n",
       " '<hashtag>  microsoft ofrece un sistema de <hashtag> codificaciã³n <hashtag>  microsoft tag <url>']"
      ]
     },
     "execution_count": 8,
     "metadata": {},
     "output_type": "execute_result"
    }
   ],
   "source": [
    "preprocessed_feedback[1:10]"
   ]
  },
  {
   "cell_type": "code",
   "execution_count": 9,
   "metadata": {},
   "outputs": [],
   "source": [
    "from sklearn.preprocessing import OneHotEncoder"
   ]
  },
  {
   "cell_type": "code",
   "execution_count": 10,
   "metadata": {},
   "outputs": [
    {
     "name": "stderr",
     "output_type": "stream",
     "text": [
      "Using TensorFlow backend.\n"
     ]
    },
    {
     "data": {
      "text/plain": [
       "array([[0., 0., 1., 0.],\n",
       "       [0., 1., 0., 0.],\n",
       "       [0., 0., 0., 1.],\n",
       "       [0., 0., 1., 0.],\n",
       "       [1., 0., 0., 0.],\n",
       "       [0., 0., 0., 1.],\n",
       "       [0., 0., 1., 0.],\n",
       "       [0., 0., 1., 0.],\n",
       "       [0., 0., 0., 1.]], dtype=float32)"
      ]
     },
     "execution_count": 10,
     "metadata": {},
     "output_type": "execute_result"
    }
   ],
   "source": [
    "# Preprocessing of labels with encoding\n",
    "labels= df_raw['label']\n",
    "from keras.utils.np_utils import to_categorical\n",
    "import numpy as np\n",
    "label_mapping={'positive': 0, 'negative': 1,'neutral': 2, 'irrelevant': 3}\n",
    "\n",
    "label=to_categorical(labels.map(label_mapping))\n",
    "\n",
    "label.shape\n",
    "label[1:10]"
   ]
  },
  {
   "cell_type": "markdown",
   "metadata": {},
   "source": [
    "##  Vectorizing the preprocessed tweets"
   ]
  },
  {
   "cell_type": "code",
   "execution_count": 11,
   "metadata": {},
   "outputs": [],
   "source": [
    "from keras.preprocessing.text import Tokenizer\n",
    "from keras.preprocessing.sequence import pad_sequences"
   ]
  },
  {
   "cell_type": "code",
   "execution_count": 12,
   "metadata": {},
   "outputs": [],
   "source": [
    "def vectorize(text,ml):\n",
    "    tokenizer = Tokenizer(num_words=10000)\n",
    "    tokenizer.fit_on_texts(text)\n",
    "    sequences = tokenizer.texts_to_sequences(text)\n",
    "    data = pad_sequences(sequences, maxlen=ml)\n",
    "    vocab = tokenizer.word_index\n",
    "    vocab['<eos>'] = 0\n",
    "    return data,vocab"
   ]
  },
  {
   "cell_type": "code",
   "execution_count": 13,
   "metadata": {},
   "outputs": [],
   "source": [
    "feedback_vectorized,vocabfv= vectorize(preprocessed_feedback,32)"
   ]
  },
  {
   "cell_type": "code",
   "execution_count": 14,
   "metadata": {},
   "outputs": [
    {
     "data": {
      "text/plain": [
       "(5513, 32)"
      ]
     },
     "execution_count": 14,
     "metadata": {},
     "output_type": "execute_result"
    }
   ],
   "source": [
    "feedback_vectorized.shape"
   ]
  },
  {
   "cell_type": "code",
   "execution_count": 15,
   "metadata": {},
   "outputs": [
    {
     "data": {
      "text/plain": [
       "(5513, 4)"
      ]
     },
     "execution_count": 15,
     "metadata": {},
     "output_type": "execute_result"
    }
   ],
   "source": [
    "label.shape"
   ]
  },
  {
   "cell_type": "code",
   "execution_count": 16,
   "metadata": {},
   "outputs": [],
   "source": [
    "#Train and test dataset splitting \n",
    "x_train= feedback_vectorized[:4000]\n",
    "x_test= feedback_vectorized[4000:]\n",
    "y_train= label[:4000]\n",
    "y_test= label[4000:]"
   ]
  },
  {
   "cell_type": "markdown",
   "metadata": {},
   "source": [
    "## Train and evaluate the model"
   ]
  },
  {
   "cell_type": "code",
   "execution_count": 17,
   "metadata": {},
   "outputs": [],
   "source": [
    "#Changed the encoding type to \"utf8\"\n",
    "import embedding1"
   ]
  },
  {
   "cell_type": "markdown",
   "metadata": {},
   "source": [
    "We use a pretrained word-embedding model "
   ]
  },
  {
   "cell_type": "code",
   "execution_count": 18,
   "metadata": {},
   "outputs": [
    {
     "name": "stderr",
     "output_type": "stream",
     "text": [
      "loading embeddings from \"glove.twitter.27B.100d.filtered.txt\"\n"
     ]
    }
   ],
   "source": [
    "weights_feedbacks= embedding1.load(vocabfv,100,'glove.twitter.27B.100d.filtered.txt')"
   ]
  },
  {
   "cell_type": "markdown",
   "metadata": {},
   "source": [
    "## Use RNN to train the first classifier:"
   ]
  },
  {
   "cell_type": "code",
   "execution_count": 19,
   "metadata": {},
   "outputs": [],
   "source": [
    "from keras.layers import Embedding, Input, GRU, Dense\n",
    "from keras.models import Model\n",
    "from matplotlib import pyplot"
   ]
  },
  {
   "cell_type": "markdown",
   "metadata": {},
   "source": [
    "Defining the precision, recall and f1 score metrics"
   ]
  },
  {
   "cell_type": "code",
   "execution_count": 20,
   "metadata": {},
   "outputs": [],
   "source": [
    "from keras import backend as K\n",
    "def recall_m(yval_s, y_pred):\n",
    "    true_positives = K.sum(K.round(K.clip(yval_s * y_pred, 0, 1)))\n",
    "    possible_positives = K.sum(K.round(K.clip(yval_s, 0, 1)))\n",
    "    recall = true_positives / (possible_positives + K.epsilon())\n",
    "    return recall\n",
    "\n",
    "def precision_m(yval_s, y_pred):\n",
    "    true_positives = K.sum(K.round(K.clip(yval_s * y_pred, 0, 1)))\n",
    "    predicted_positives = K.sum(K.round(K.clip(y_pred, 0, 1)))\n",
    "    precision = true_positives / (predicted_positives + K.epsilon())\n",
    "    return precision\n",
    "\n",
    "def f1_m(yval_s, y_pred):\n",
    "    precision = precision_m(yval_s, y_pred)\n",
    "    recall = recall_m(yval_s, y_pred)\n",
    "    return 2*((precision*recall)/(precision+recall+K.epsilon()))"
   ]
  },
  {
   "cell_type": "markdown",
   "metadata": {},
   "source": [
    "Defining and training the RNN with GRU"
   ]
  },
  {
   "cell_type": "code",
   "execution_count": 21,
   "metadata": {},
   "outputs": [
    {
     "name": "stdout",
     "output_type": "stream",
     "text": [
      "WARNING:tensorflow:From C:\\Users\\User\\Anaconda3\\lib\\site-packages\\keras\\backend\\tensorflow_backend.py:422: The name tf.global_variables is deprecated. Please use tf.compat.v1.global_variables instead.\n",
      "\n",
      "Train on 4000 samples, validate on 1513 samples\n",
      "Epoch 1/15\n",
      "4000/4000 [==============================] - 12s 3ms/step - loss: 0.8789 - acc: 0.6570 - f1_m: 0.5868 - precision_m: 0.7128 - recall_m: 0.5176 - val_loss: 0.7284 - val_acc: 0.7065 - val_f1_m: 0.6959 - val_precision_m: 0.7456 - val_recall_m: 0.6529\n",
      "Epoch 2/15\n",
      "4000/4000 [==============================] - 9s 2ms/step - loss: 0.6641 - acc: 0.7450 - f1_m: 0.7293 - precision_m: 0.7907 - recall_m: 0.6783 - val_loss: 0.7334 - val_acc: 0.7098 - val_f1_m: 0.6907 - val_precision_m: 0.7734 - val_recall_m: 0.6253\n",
      "Epoch 3/15\n",
      "4000/4000 [==============================] - 8s 2ms/step - loss: 0.6030 - acc: 0.7703 - f1_m: 0.7590 - precision_m: 0.8167 - recall_m: 0.7098 - val_loss: 0.6425 - val_acc: 0.7442 - val_f1_m: 0.7331 - val_precision_m: 0.8075 - val_recall_m: 0.6727\n",
      "Epoch 4/15\n",
      "4000/4000 [==============================] - 9s 2ms/step - loss: 0.5424 - acc: 0.7955 - f1_m: 0.7894 - precision_m: 0.8350 - recall_m: 0.7498 - val_loss: 0.6381 - val_acc: 0.7488 - val_f1_m: 0.7454 - val_precision_m: 0.7795 - val_recall_m: 0.7148\n",
      "Epoch 5/15\n",
      "4000/4000 [==============================] - 7s 2ms/step - loss: 0.4961 - acc: 0.8152 - f1_m: 0.8129 - precision_m: 0.8487 - recall_m: 0.7808 - val_loss: 0.6268 - val_acc: 0.7521 - val_f1_m: 0.7535 - val_precision_m: 0.7842 - val_recall_m: 0.7256\n",
      "Epoch 6/15\n",
      "4000/4000 [==============================] - 9s 2ms/step - loss: 0.4504 - acc: 0.8382 - f1_m: 0.8373 - precision_m: 0.8655 - recall_m: 0.8113 - val_loss: 0.5739 - val_acc: 0.7806 - val_f1_m: 0.7792 - val_precision_m: 0.8082 - val_recall_m: 0.7526\n",
      "Epoch 7/15\n",
      "4000/4000 [==============================] - 8s 2ms/step - loss: 0.4123 - acc: 0.8528 - f1_m: 0.8514 - precision_m: 0.8756 - recall_m: 0.8289 - val_loss: 0.5828 - val_acc: 0.7799 - val_f1_m: 0.7792 - val_precision_m: 0.8020 - val_recall_m: 0.7581\n",
      "Epoch 8/15\n",
      "4000/4000 [==============================] - 8s 2ms/step - loss: 0.3748 - acc: 0.8583 - f1_m: 0.8616 - precision_m: 0.8834 - recall_m: 0.8410 - val_loss: 0.6469 - val_acc: 0.7555 - val_f1_m: 0.7415 - val_precision_m: 0.7783 - val_recall_m: 0.7085\n",
      "Epoch 9/15\n",
      "4000/4000 [==============================] - 9s 2ms/step - loss: 0.3313 - acc: 0.8823 - f1_m: 0.8817 - precision_m: 0.8988 - recall_m: 0.8656 - val_loss: 0.5913 - val_acc: 0.7865 - val_f1_m: 0.7855 - val_precision_m: 0.8033 - val_recall_m: 0.7688\n",
      "Epoch 10/15\n",
      "4000/4000 [==============================] - 8s 2ms/step - loss: 0.2893 - acc: 0.8950 - f1_m: 0.8944 - precision_m: 0.9105 - recall_m: 0.8792 - val_loss: 0.6329 - val_acc: 0.7667 - val_f1_m: 0.7713 - val_precision_m: 0.7870 - val_recall_m: 0.7564\n",
      "Epoch 11/15\n",
      "4000/4000 [==============================] - 8s 2ms/step - loss: 0.2502 - acc: 0.9133 - f1_m: 0.9139 - precision_m: 0.9273 - recall_m: 0.9010 - val_loss: 0.6689 - val_acc: 0.7819 - val_f1_m: 0.7830 - val_precision_m: 0.7951 - val_recall_m: 0.7715\n",
      "Epoch 12/15\n",
      "4000/4000 [==============================] - 8s 2ms/step - loss: 0.2041 - acc: 0.9308 - f1_m: 0.9303 - precision_m: 0.9409 - recall_m: 0.9201 - val_loss: 0.6898 - val_acc: 0.7859 - val_f1_m: 0.7842 - val_precision_m: 0.7943 - val_recall_m: 0.7746\n",
      "Epoch 13/15\n",
      "4000/4000 [==============================] - 9s 2ms/step - loss: 0.1625 - acc: 0.9477 - f1_m: 0.9492 - precision_m: 0.9574 - recall_m: 0.9412 - val_loss: 0.7247 - val_acc: 0.7892 - val_f1_m: 0.7855 - val_precision_m: 0.7990 - val_recall_m: 0.7727\n",
      "Epoch 14/15\n",
      "4000/4000 [==============================] - 8s 2ms/step - loss: 0.1327 - acc: 0.9572 - f1_m: 0.9582 - precision_m: 0.9660 - recall_m: 0.9506 - val_loss: 0.7713 - val_acc: 0.7753 - val_f1_m: 0.7739 - val_precision_m: 0.7890 - val_recall_m: 0.7597\n",
      "Epoch 15/15\n",
      "4000/4000 [==============================] - 9s 2ms/step - loss: 0.1023 - acc: 0.9700 - f1_m: 0.9707 - precision_m: 0.9757 - recall_m: 0.9658 - val_loss: 0.8165 - val_acc: 0.7799 - val_f1_m: 0.7779 - val_precision_m: 0.7860 - val_recall_m: 0.7701\n"
     ]
    },
    {
     "data": {
      "image/png": "[encoded data removed]",
      "text/plain": [
       "<Figure size 432x288 with 1 Axes>"
      ]
     },
     "metadata": {
      "needs_background": "light"
     },
     "output_type": "display_data"
    }
   ],
   "source": [
    "embedding_layer = Embedding(len(vocabfv), 100, weights=[weights_feedbacks],input_length=32, trainable=False)\n",
    "sequence_input = Input(shape=(32,), dtype='int32')\n",
    "embedded_sequences = embedding_layer(sequence_input)\n",
    "x = GRU(64)(embedded_sequences)\n",
    "preds = Dense(label.shape[1], activation='softmax')(x)\n",
    "modelrnn = Model(sequence_input, preds)\n",
    "modelrnn.compile(loss='categorical_crossentropy',optimizer='Nadam', metrics=['acc',f1_m,precision_m, recall_m])\n",
    "trained= modelrnn.fit(x_train, y_train,epochs=15,validation_data=(x_test,y_test), batch_size=64, shuffle=True)\n",
    "pyplot.plot(trained.history['acc'])\n",
    "pyplot.show()\n"
   ]
  },
  {
   "cell_type": "markdown",
   "metadata": {},
   "source": [
    "Q2: evaluate the model using precision, recall, F1-measure, and accuracy metrics."
   ]
  },
  {
   "cell_type": "code",
   "execution_count": 22,
   "metadata": {},
   "outputs": [],
   "source": [
    "categorical_crossentropy_lossr, accuracyr, f1_scorer, precisionr, recallr = modelrnn.evaluate(x_test, y_test, verbose=0)"
   ]
  },
  {
   "cell_type": "code",
   "execution_count": 23,
   "metadata": {},
   "outputs": [
    {
     "data": {
      "text/plain": [
       "(0.8165182862467744,\n",
       " 0.7799074649810791,\n",
       " 0.778437614440918,\n",
       " 0.7865169644355774,\n",
       " 0.7707610130310059)"
      ]
     },
     "execution_count": 23,
     "metadata": {},
     "output_type": "execute_result"
    }
   ],
   "source": [
    "categorical_crossentropy_lossr, accuracyr, f1_scorer, precisionr, recallr"
   ]
  },
  {
   "cell_type": "markdown",
   "metadata": {},
   "source": [
    "## Training CNN with the same"
   ]
  },
  {
   "cell_type": "code",
   "execution_count": 24,
   "metadata": {},
   "outputs": [],
   "source": [
    "from keras.layers import Conv1D, MaxPooling1D, Flatten"
   ]
  },
  {
   "cell_type": "code",
   "execution_count": 25,
   "metadata": {},
   "outputs": [
    {
     "name": "stdout",
     "output_type": "stream",
     "text": [
      "WARNING:tensorflow:From C:\\Users\\User\\Anaconda3\\lib\\site-packages\\keras\\backend\\tensorflow_backend.py:4070: The name tf.nn.max_pool is deprecated. Please use tf.nn.max_pool2d instead.\n",
      "\n",
      "Train on 4000 samples, validate on 1513 samples\n",
      "Epoch 1/10\n",
      "4000/4000 [==============================] - 3s 872us/step - loss: 0.8193 - acc: 0.6800 - f1_m: 0.6403 - precision_m: 0.7296 - recall_m: 0.5781 - val_loss: 0.7216 - val_acc: 0.7145 - val_f1_m: 0.7012 - val_precision_m: 0.7746 - val_recall_m: 0.6415\n",
      "Epoch 2/10\n",
      "4000/4000 [==============================] - 2s 509us/step - loss: 0.5707 - acc: 0.7803 - f1_m: 0.7726 - precision_m: 0.8378 - recall_m: 0.7192 - val_loss: 0.8307 - val_acc: 0.6946 - val_f1_m: 0.6938 - val_precision_m: 0.7060 - val_recall_m: 0.6821\n",
      "Epoch 3/10\n",
      "4000/4000 [==============================] - 2s 436us/step - loss: 0.4477 - acc: 0.8395 - f1_m: 0.8311 - precision_m: 0.8779 - recall_m: 0.7897 - val_loss: 0.6751 - val_acc: 0.7482 - val_f1_m: 0.7328 - val_precision_m: 0.7873 - val_recall_m: 0.6862\n",
      "Epoch 4/10\n",
      "4000/4000 [==============================] - 2s 541us/step - loss: 0.3432 - acc: 0.8878 - f1_m: 0.8810 - precision_m: 0.9147 - recall_m: 0.8504 - val_loss: 0.6798 - val_acc: 0.7462 - val_f1_m: 0.7446 - val_precision_m: 0.7849 - val_recall_m: 0.7090\n",
      "Epoch 5/10\n",
      "4000/4000 [==============================] - 2s 476us/step - loss: 0.2565 - acc: 0.9225 - f1_m: 0.9208 - precision_m: 0.9470 - recall_m: 0.8963 - val_loss: 0.6899 - val_acc: 0.7429 - val_f1_m: 0.7405 - val_precision_m: 0.7713 - val_recall_m: 0.7125\n",
      "Epoch 6/10\n",
      "4000/4000 [==============================] - 2s 502us/step - loss: 0.1865 - acc: 0.9535 - f1_m: 0.9512 - precision_m: 0.9687 - recall_m: 0.9345 - val_loss: 0.7033 - val_acc: 0.7469 - val_f1_m: 0.7371 - val_precision_m: 0.7833 - val_recall_m: 0.6965\n",
      "Epoch 7/10\n",
      "4000/4000 [==============================] - 2s 470us/step - loss: 0.1357 - acc: 0.9735 - f1_m: 0.9711 - precision_m: 0.9825 - recall_m: 0.9601 - val_loss: 0.7413 - val_acc: 0.7469 - val_f1_m: 0.7425 - val_precision_m: 0.7704 - val_recall_m: 0.7167\n",
      "Epoch 8/10\n",
      "4000/4000 [==============================] - 2s 453us/step - loss: 0.1043 - acc: 0.9825 - f1_m: 0.9810 - precision_m: 0.9872 - recall_m: 0.9750 - val_loss: 0.7558 - val_acc: 0.7588 - val_f1_m: 0.7596 - val_precision_m: 0.7778 - val_recall_m: 0.7426\n",
      "Epoch 9/10\n",
      "4000/4000 [==============================] - 2s 557us/step - loss: 0.0792 - acc: 0.9872 - f1_m: 0.9867 - precision_m: 0.9908 - recall_m: 0.9826 - val_loss: 0.7763 - val_acc: 0.7495 - val_f1_m: 0.7501 - val_precision_m: 0.7651 - val_recall_m: 0.7360\n",
      "Epoch 10/10\n",
      "4000/4000 [==============================] - 2s 562us/step - loss: 0.0642 - acc: 0.9908 - f1_m: 0.9899 - precision_m: 0.9925 - recall_m: 0.9874 - val_loss: 0.8678 - val_acc: 0.7521 - val_f1_m: 0.7535 - val_precision_m: 0.7667 - val_recall_m: 0.7409\n"
     ]
    },
    {
     "data": {
      "image/png": "[encoded data removed]",
      "text/plain": [
       "<Figure size 432x288 with 1 Axes>"
      ]
     },
     "metadata": {
      "needs_background": "light"
     },
     "output_type": "display_data"
    }
   ],
   "source": [
    "sequence_input = Input(shape=(32,), dtype='int32')\n",
    "embedded_sequences = embedding_layer(sequence_input)\n",
    "x = Conv1D(128, 3, activation='relu')(embedded_sequences)\n",
    "x = MaxPooling1D(3)(x) # global max pooling\n",
    "x = Flatten()(x)\n",
    "preds = Dense(label.shape[1], activation='softmax')(x)\n",
    "\n",
    "modelcnn = Model(sequence_input, preds)\n",
    "modelcnn.compile(loss='categorical_crossentropy',optimizer='Nadam', metrics=['acc',f1_m,precision_m, recall_m])\n",
    "trained1= modelcnn.fit(x_train, y_train,epochs=10,validation_data=(x_test,y_test), batch_size=64, shuffle=True)\n",
    "pyplot.plot(trained1.history['acc'])\n",
    "pyplot.show()"
   ]
  },
  {
   "cell_type": "markdown",
   "metadata": {},
   "source": [
    "Q2: evaluate the model using precision, recall, F1-measure, and accuracy metrics."
   ]
  },
  {
   "cell_type": "code",
   "execution_count": 26,
   "metadata": {},
   "outputs": [],
   "source": [
    "categorical_crossentropy_lossc, accuracyc, f1_scorec, precisionc, recallc = modelcnn.evaluate(x_test, y_test, verbose=0)"
   ]
  },
  {
   "cell_type": "code",
   "execution_count": 27,
   "metadata": {},
   "outputs": [
    {
     "data": {
      "text/plain": [
       "(0.8678297041783014,\n",
       " 0.7521480321884155,\n",
       " 0.7538431286811829,\n",
       " 0.766848087310791,\n",
       " 0.7418258190155029)"
      ]
     },
     "execution_count": 27,
     "metadata": {},
     "output_type": "execute_result"
    }
   ],
   "source": [
    "categorical_crossentropy_lossc, accuracyc, f1_scorec, precisionc, recallc"
   ]
  },
  {
   "cell_type": "markdown",
   "metadata": {},
   "source": [
    "RNN performs better but is more expensive in terms of time complexity "
   ]
  }
 ],
 "metadata": {
  "kernelspec": {
   "display_name": "Python 3",
   "language": "python",
   "name": "python3"
  },
  "language_info": {
   "codemirror_mode": {
    "name": "ipython",
    "version": 3
   },
   "file_extension": ".py",
   "mimetype": "text/x-python",
   "name": "python",
   "nbconvert_exporter": "python",
   "pygments_lexer": "ipython3",
   "version": "3.7.3"
  }
 },
 "nbformat": 4,
 "nbformat_minor": 4
}
